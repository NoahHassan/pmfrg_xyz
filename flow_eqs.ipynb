{
 "cells": [
  {
   "cell_type": "markdown",
   "metadata": {},
   "source": [
    "## Flow equation generator, because im too lazy to use mathematica"
   ]
  },
  {
   "cell_type": "markdown",
   "metadata": {},
   "source": [
    "In the unlikely scenario that someone (me included) will try to understand this again: This is just a quick way to try to get the correct flavor summation going and to figure out what the analogue to the X_a, X_b, X_c bubbles in the XYZ model should be. It should be noted, that terms that are equal down below, are not actually equal when the frequency arguments are included. For example, the result xx * yx2 + xx * yx2 when performing X2(xy2) is *not* equal to 2 * xx * yx2. See the flow equations for the XYZ model. The two terms have unequal (or rather \"permuted\") frequency arguments."
   ]
  },
  {
   "cell_type": "code",
   "execution_count": 1,
   "metadata": {},
   "outputs": [],
   "source": [
    "symbols = [\"xxxx\", \"yyyy\", \"zzzz\",\n",
    "           \"xxyy\", \"xyxy\", \"xyyx\",\n",
    "           \"xxzz\", \"xzxz\", \"xzzx\",\n",
    "           \"yyxx\", \"yxyx\", \"yxxy\",\n",
    "           \"yyzz\", \"yzyz\", \"yzzy\",\n",
    "           \"zzxx\", \"zxzx\", \"zxxz\",\n",
    "           \"zzyy\", \"zyzy\", \"zyyz\"]\n",
    "\n",
    "associated_symbols = [\"xx\", \"yy\", \"zz\",\n",
    "                      \"xy1\", \"xy2\", \"xy3\",\n",
    "                      \"xz1\", \"xz2\", \"xz3\",\n",
    "                      \"yx1\", \"yx2\", \"yx3\",\n",
    "                      \"yz1\", \"yz2\", \"yz3\",\n",
    "                      \"zx1\", \"zx2\", \"zx3\",\n",
    "                      \"zy1\", \"zy2\", \"zy3\"]\n",
    "\n",
    "# Create the dictionary\n",
    "symbol_dict = dict(zip(symbols, associated_symbols))"
   ]
  },
  {
   "cell_type": "code",
   "execution_count": 12,
   "metadata": {},
   "outputs": [],
   "source": [
    "flavors = [\"x\", \"y\", \"z\"]\n",
    "initial = \"xyxy\"\n",
    "s1 = initial[0]\n",
    "s2 = initial[1]\n",
    "s3 = initial[2]\n",
    "s4 = initial[3]"
   ]
  },
  {
   "cell_type": "code",
   "execution_count": 14,
   "metadata": {},
   "outputs": [
    {
     "name": "stdout",
     "output_type": "stream",
     "text": [
      "X1(xy2) = \n",
      "xy3 * xy2 + \n",
      "xy2 * yx3 + \n",
      "\n",
      "X2(xy2) = \n",
      "xx * yx2 +\n",
      "xx * yx2 + \n",
      "xy2 * yy +\n",
      "xy2 * yy + \n",
      "xz2 * yz2 +\n",
      "xz2 * yz2 + \n",
      "\n",
      "X3(xy2) = \n",
      "xy3 * yx1 +\n",
      "xy1 * yx3 + \n",
      "xy1 * yx3 +\n",
      "xy3 * yx1 + \n"
     ]
    }
   ],
   "source": [
    "### First bubble (1 2 4' 1') * (2' 3' 3 4)\n",
    "\n",
    "print(\"X1(\" + symbol_dict[initial] + \") = \")\n",
    "\n",
    "### imagine looping over 1'\n",
    "for sp1 in flavors:\n",
    "    ### sp1 should be either s1 or s2\n",
    "    if(s1 != sp1 and s2 != sp1 and s1 != s2):\n",
    "        continue\n",
    "    \n",
    "    sp2 = sp1\n",
    "    sp4 = sp1\n",
    "    if(s1 != s2):\n",
    "        if(sp1 == s1):\n",
    "            sp4 = s2\n",
    "        else:\n",
    "            sp4 = s1\n",
    "    \n",
    "    sp3 = sp4\n",
    "\n",
    "    str1 = s1 + s2 + sp4 + sp1\n",
    "    str2 = sp2 + sp3 + s3 + s4\n",
    "    print(symbol_dict[str1] + \" * \" + symbol_dict[str2] + \" + \")\n",
    "\n",
    "### Second bubble (1 2' 3 3') * (2 1' 4 4') + (1 3' 3 2') * (2 4' 4 1')\n",
    "### effectively exchange 4 with 1 and 4' with 1' in previous loop\n",
    "\n",
    "print(\"\\nX2(\" + symbol_dict[initial] + \") = \")\n",
    "\n",
    "for sp4 in flavors:\n",
    "    if(s4 != sp4 and s2 != sp4 and s4 != s2):\n",
    "        continue ### because otherwise we have 3 different flavors\n",
    "\n",
    "    sp3 = sp4\n",
    "    sp1 = sp4\n",
    "    if(s4 != s2):\n",
    "        if(sp4 == s4):\n",
    "            sp1 = s2\n",
    "        else:\n",
    "            sp1 = s4\n",
    "\n",
    "    sp2 = sp1\n",
    "\n",
    "    str1_1 = s1 + sp2 + s3 + sp3\n",
    "    str1_2 = s2 + sp1 + s4 + sp4\n",
    "    str2_1 = s1 + sp3 + s3 + sp2\n",
    "    str2_2 = s2 + sp4 + s4 + sp1\n",
    "    print(symbol_dict[str1_1] + \" * \" + symbol_dict[str1_2] + \" +\\n\"\n",
    "          + symbol_dict[str2_1] + \" * \" + symbol_dict[str2_2] +\" + \")\n",
    "    \n",
    "### Third bubble: (1 4' 4 1') * (2 3' 3 2') + (1 1' 4 4') * (2 2' 3 3')\n",
    "### Effectively exchange 2 with 4\n",
    "\n",
    "print(\"\\nX3(\" + symbol_dict[initial] + \") = \")\n",
    "\n",
    "for sp1 in flavors:\n",
    "    if(s1 != sp1 and s4 != sp1 and s1 != s4):\n",
    "        continue\n",
    "\n",
    "    sp2 = sp1\n",
    "    sp4 = sp1\n",
    "    if(s1 != s4):\n",
    "        if(sp1 == s1):\n",
    "            sp4 = s4\n",
    "        else:\n",
    "            sp4 = s1\n",
    "\n",
    "    sp3 = sp4\n",
    "\n",
    "    str1_1 = s1 + sp4 + s4 + sp1\n",
    "    str1_2 = s2 + sp3 + s3 + sp2\n",
    "    str2_1 = s1 + sp1 + s4 + sp4\n",
    "    str2_2 = s2 + sp2 + s3 + sp3\n",
    "\n",
    "    print(symbol_dict[str1_1] + \" * \" + symbol_dict[str1_2] + \" +\\n\"\n",
    "          + symbol_dict[str2_1] + \" * \" + symbol_dict[str2_2] + \" + \")"
   ]
  }
 ],
 "metadata": {
  "kernelspec": {
   "display_name": "Python 3",
   "language": "python",
   "name": "python3"
  },
  "language_info": {
   "codemirror_mode": {
    "name": "ipython",
    "version": 3
   },
   "file_extension": ".py",
   "mimetype": "text/x-python",
   "name": "python",
   "nbconvert_exporter": "python",
   "pygments_lexer": "ipython3",
   "version": "3.12.0"
  }
 },
 "nbformat": 4,
 "nbformat_minor": 2
}
